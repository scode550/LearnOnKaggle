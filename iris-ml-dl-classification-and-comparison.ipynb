{
 "cells": [
  {
   "cell_type": "code",
   "execution_count": 1,
   "id": "19e34bb1",
   "metadata": {
    "_cell_guid": "b1076dfc-b9ad-4769-8c92-a6c4dae69d19",
    "_uuid": "8f2839f25d086af736a60e9eeb907d3b93b6e0e5",
    "execution": {
     "iopub.execute_input": "2024-02-08T11:50:43.645393Z",
     "iopub.status.busy": "2024-02-08T11:50:43.644874Z",
     "iopub.status.idle": "2024-02-08T11:50:46.379401Z",
     "shell.execute_reply": "2024-02-08T11:50:46.377911Z"
    },
    "papermill": {
     "duration": 2.744839,
     "end_time": "2024-02-08T11:50:46.383759",
     "exception": false,
     "start_time": "2024-02-08T11:50:43.638920",
     "status": "completed"
    },
    "tags": []
   },
   "outputs": [
    {
     "name": "stdout",
     "output_type": "stream",
     "text": [
      "/kaggle/input/iris/Iris.csv\n",
      "/kaggle/input/iris/database.sqlite\n"
     ]
    }
   ],
   "source": [
    "# This Python 3 environment comes with many helpful analytics libraries installed\n",
    "# It is defined by the kaggle/python Docker image: https://github.com/kaggle/docker-python\n",
    "# For example, here's several helpful packages to load\n",
    "%matplotlib inline\n",
    "import numpy as np # linear algebra\n",
    "import pandas as pd # data processing, CSV file I/O (e.g. pd.read_csv)\n",
    "import matplotlib.pyplot as pt\n",
    "from sklearn.model_selection import train_test_split\n",
    "from sklearn.linear_model import LogisticRegression\n",
    "from sklearn.tree import DecisionTreeClassifier\n",
    "from sklearn.svm import SVC\n",
    "from sklearn.ensemble import RandomForestClassifier\n",
    "from sklearn.neighbors import KNeighborsClassifier\n",
    "from sklearn.naive_bayes import GaussianNB\n",
    "from sklearn.metrics import classification_report\n",
    "from sklearn.model_selection import KFold\n",
    "from sklearn.neural_network import MLPClassifier\n",
    "from xgboost import XGBClassifier\n",
    "import warnings\n",
    "\n",
    "\n",
    "# Input data files are available in the read-only \"../input/\" directory\n",
    "# For example, running this (by clicking run or pressing Shift+Enter) will list all files under the input directory\n",
    "\n",
    "import os\n",
    "for dirname, _, filenames in os.walk('/kaggle/input'):\n",
    "    for filename in filenames:\n",
    "        print(os.path.join(dirname, filename))\n",
    "\n",
    "# You can write up to 20GB to the current directory (/kaggle/working/) that gets preserved as output when you create a version using \"Save & Run All\" \n",
    "# You can also write temporary files to /kaggle/temp/, but they won't be saved outside of the current session"
   ]
  },
  {
   "cell_type": "markdown",
   "id": "f626f977",
   "metadata": {
    "papermill": {
     "duration": 0.003426,
     "end_time": "2024-02-08T11:50:46.391222",
     "exception": false,
     "start_time": "2024-02-08T11:50:46.387796",
     "status": "completed"
    },
    "tags": []
   },
   "source": [
    "# 1.Basic Data Exploration"
   ]
  },
  {
   "cell_type": "code",
   "execution_count": 2,
   "id": "547adc78",
   "metadata": {
    "execution": {
     "iopub.execute_input": "2024-02-08T11:50:46.401412Z",
     "iopub.status.busy": "2024-02-08T11:50:46.400683Z",
     "iopub.status.idle": "2024-02-08T11:50:46.445927Z",
     "shell.execute_reply": "2024-02-08T11:50:46.444870Z"
    },
    "papermill": {
     "duration": 0.053526,
     "end_time": "2024-02-08T11:50:46.448398",
     "exception": false,
     "start_time": "2024-02-08T11:50:46.394872",
     "status": "completed"
    },
    "tags": []
   },
   "outputs": [
    {
     "data": {
      "text/html": [
       "<div>\n",
       "<style scoped>\n",
       "    .dataframe tbody tr th:only-of-type {\n",
       "        vertical-align: middle;\n",
       "    }\n",
       "\n",
       "    .dataframe tbody tr th {\n",
       "        vertical-align: top;\n",
       "    }\n",
       "\n",
       "    .dataframe thead th {\n",
       "        text-align: right;\n",
       "    }\n",
       "</style>\n",
       "<table border=\"1\" class=\"dataframe\">\n",
       "  <thead>\n",
       "    <tr style=\"text-align: right;\">\n",
       "      <th></th>\n",
       "      <th>SepalLengthCm</th>\n",
       "      <th>SepalWidthCm</th>\n",
       "      <th>PetalLengthCm</th>\n",
       "      <th>PetalWidthCm</th>\n",
       "      <th>Species</th>\n",
       "    </tr>\n",
       "  </thead>\n",
       "  <tbody>\n",
       "    <tr>\n",
       "      <th>0</th>\n",
       "      <td>5.1</td>\n",
       "      <td>3.5</td>\n",
       "      <td>1.4</td>\n",
       "      <td>0.2</td>\n",
       "      <td>Iris-setosa</td>\n",
       "    </tr>\n",
       "    <tr>\n",
       "      <th>1</th>\n",
       "      <td>4.9</td>\n",
       "      <td>3.0</td>\n",
       "      <td>1.4</td>\n",
       "      <td>0.2</td>\n",
       "      <td>Iris-setosa</td>\n",
       "    </tr>\n",
       "    <tr>\n",
       "      <th>2</th>\n",
       "      <td>4.7</td>\n",
       "      <td>3.2</td>\n",
       "      <td>1.3</td>\n",
       "      <td>0.2</td>\n",
       "      <td>Iris-setosa</td>\n",
       "    </tr>\n",
       "    <tr>\n",
       "      <th>3</th>\n",
       "      <td>4.6</td>\n",
       "      <td>3.1</td>\n",
       "      <td>1.5</td>\n",
       "      <td>0.2</td>\n",
       "      <td>Iris-setosa</td>\n",
       "    </tr>\n",
       "    <tr>\n",
       "      <th>4</th>\n",
       "      <td>5.0</td>\n",
       "      <td>3.6</td>\n",
       "      <td>1.4</td>\n",
       "      <td>0.2</td>\n",
       "      <td>Iris-setosa</td>\n",
       "    </tr>\n",
       "    <tr>\n",
       "      <th>...</th>\n",
       "      <td>...</td>\n",
       "      <td>...</td>\n",
       "      <td>...</td>\n",
       "      <td>...</td>\n",
       "      <td>...</td>\n",
       "    </tr>\n",
       "    <tr>\n",
       "      <th>145</th>\n",
       "      <td>6.7</td>\n",
       "      <td>3.0</td>\n",
       "      <td>5.2</td>\n",
       "      <td>2.3</td>\n",
       "      <td>Iris-virginica</td>\n",
       "    </tr>\n",
       "    <tr>\n",
       "      <th>146</th>\n",
       "      <td>6.3</td>\n",
       "      <td>2.5</td>\n",
       "      <td>5.0</td>\n",
       "      <td>1.9</td>\n",
       "      <td>Iris-virginica</td>\n",
       "    </tr>\n",
       "    <tr>\n",
       "      <th>147</th>\n",
       "      <td>6.5</td>\n",
       "      <td>3.0</td>\n",
       "      <td>5.2</td>\n",
       "      <td>2.0</td>\n",
       "      <td>Iris-virginica</td>\n",
       "    </tr>\n",
       "    <tr>\n",
       "      <th>148</th>\n",
       "      <td>6.2</td>\n",
       "      <td>3.4</td>\n",
       "      <td>5.4</td>\n",
       "      <td>2.3</td>\n",
       "      <td>Iris-virginica</td>\n",
       "    </tr>\n",
       "    <tr>\n",
       "      <th>149</th>\n",
       "      <td>5.9</td>\n",
       "      <td>3.0</td>\n",
       "      <td>5.1</td>\n",
       "      <td>1.8</td>\n",
       "      <td>Iris-virginica</td>\n",
       "    </tr>\n",
       "  </tbody>\n",
       "</table>\n",
       "<p>150 rows × 5 columns</p>\n",
       "</div>"
      ],
      "text/plain": [
       "     SepalLengthCm  SepalWidthCm  PetalLengthCm  PetalWidthCm         Species\n",
       "0              5.1           3.5            1.4           0.2     Iris-setosa\n",
       "1              4.9           3.0            1.4           0.2     Iris-setosa\n",
       "2              4.7           3.2            1.3           0.2     Iris-setosa\n",
       "3              4.6           3.1            1.5           0.2     Iris-setosa\n",
       "4              5.0           3.6            1.4           0.2     Iris-setosa\n",
       "..             ...           ...            ...           ...             ...\n",
       "145            6.7           3.0            5.2           2.3  Iris-virginica\n",
       "146            6.3           2.5            5.0           1.9  Iris-virginica\n",
       "147            6.5           3.0            5.2           2.0  Iris-virginica\n",
       "148            6.2           3.4            5.4           2.3  Iris-virginica\n",
       "149            5.9           3.0            5.1           1.8  Iris-virginica\n",
       "\n",
       "[150 rows x 5 columns]"
      ]
     },
     "execution_count": 2,
     "metadata": {},
     "output_type": "execute_result"
    }
   ],
   "source": [
    "df=pd.read_csv(\"/kaggle/input/iris/Iris.csv\")\n",
    "df.drop(columns=['Id'])"
   ]
  },
  {
   "cell_type": "code",
   "execution_count": 3,
   "id": "e2730a5a",
   "metadata": {
    "execution": {
     "iopub.execute_input": "2024-02-08T11:50:46.458663Z",
     "iopub.status.busy": "2024-02-08T11:50:46.457870Z",
     "iopub.status.idle": "2024-02-08T11:50:46.484505Z",
     "shell.execute_reply": "2024-02-08T11:50:46.483255Z"
    },
    "papermill": {
     "duration": 0.034709,
     "end_time": "2024-02-08T11:50:46.487141",
     "exception": false,
     "start_time": "2024-02-08T11:50:46.452432",
     "status": "completed"
    },
    "tags": []
   },
   "outputs": [
    {
     "name": "stdout",
     "output_type": "stream",
     "text": [
      "Data frame shape is :  (150, 6) \n",
      "\n",
      "<class 'pandas.core.frame.DataFrame'>\n",
      "RangeIndex: 150 entries, 0 to 149\n",
      "Data columns (total 6 columns):\n",
      " #   Column         Non-Null Count  Dtype  \n",
      "---  ------         --------------  -----  \n",
      " 0   Id             150 non-null    int64  \n",
      " 1   SepalLengthCm  150 non-null    float64\n",
      " 2   SepalWidthCm   150 non-null    float64\n",
      " 3   PetalLengthCm  150 non-null    float64\n",
      " 4   PetalWidthCm   150 non-null    float64\n",
      " 5   Species        150 non-null    object \n",
      "dtypes: float64(4), int64(1), object(1)\n",
      "memory usage: 7.2+ KB\n"
     ]
    }
   ],
   "source": [
    "print(\"Data frame shape is : \",df.shape,\"\\n\")\n",
    "df.info()"
   ]
  },
  {
   "cell_type": "markdown",
   "id": "c92fcb59",
   "metadata": {
    "papermill": {
     "duration": 0.003698,
     "end_time": "2024-02-08T11:50:46.494836",
     "exception": false,
     "start_time": "2024-02-08T11:50:46.491138",
     "status": "completed"
    },
    "tags": []
   },
   "source": [
    "# 2.Data Transformation"
   ]
  },
  {
   "cell_type": "code",
   "execution_count": 4,
   "id": "3478157c",
   "metadata": {
    "execution": {
     "iopub.execute_input": "2024-02-08T11:50:46.505598Z",
     "iopub.status.busy": "2024-02-08T11:50:46.504827Z",
     "iopub.status.idle": "2024-02-08T11:50:46.521955Z",
     "shell.execute_reply": "2024-02-08T11:50:46.520471Z"
    },
    "papermill": {
     "duration": 0.025811,
     "end_time": "2024-02-08T11:50:46.524641",
     "exception": false,
     "start_time": "2024-02-08T11:50:46.498830",
     "status": "completed"
    },
    "tags": []
   },
   "outputs": [
    {
     "name": "stdout",
     "output_type": "stream",
     "text": [
      "['Iris-setosa' 'Iris-versicolor' 'Iris-virginica']\n",
      "0      0\n",
      "1      0\n",
      "2      0\n",
      "3      0\n",
      "4      0\n",
      "      ..\n",
      "145    2\n",
      "146    2\n",
      "147    2\n",
      "148    2\n",
      "149    2\n",
      "Name: Species, Length: 150, dtype: int64\n"
     ]
    }
   ],
   "source": [
    "my_mapping={'Iris-setosa':0,'Iris-versicolor':1,'Iris-virginica':2}\n",
    "print(df['Species'].unique())\n",
    "df['Species']=df['Species'].map(my_mapping)\n",
    "print(df['Species'])\n",
    "X=df.drop('Species',axis=1)\n",
    "y=df['Species']\n",
    "#If Cross validation is needed, use KFold from sklearn.\n",
    "# kf=KFold(n_splits=5,shuffle=True,random_state=42)\n",
    "X_train,X_test,y_train,y_test=train_test_split(X,y,test_size=0.2,random_state=42)\n"
   ]
  },
  {
   "cell_type": "markdown",
   "id": "b1346dba",
   "metadata": {
    "papermill": {
     "duration": 0.004139,
     "end_time": "2024-02-08T11:50:46.533099",
     "exception": false,
     "start_time": "2024-02-08T11:50:46.528960",
     "status": "completed"
    },
    "tags": []
   },
   "source": [
    "# 3.Training and evaluation"
   ]
  },
  {
   "cell_type": "markdown",
   "id": "b1cb4fd1",
   "metadata": {
    "papermill": {
     "duration": 0.003743,
     "end_time": "2024-02-08T11:50:46.540928",
     "exception": false,
     "start_time": "2024-02-08T11:50:46.537185",
     "status": "completed"
    },
    "tags": []
   },
   "source": [
    "**3.1 Machine Learning Classification - *Logisitc,Decision Tree, Random Forest, Support Vector, KNN,Gaussian NB, XGB***"
   ]
  },
  {
   "cell_type": "code",
   "execution_count": 5,
   "id": "1845a262",
   "metadata": {
    "execution": {
     "iopub.execute_input": "2024-02-08T11:50:46.551535Z",
     "iopub.status.busy": "2024-02-08T11:50:46.550711Z",
     "iopub.status.idle": "2024-02-08T11:50:46.927651Z",
     "shell.execute_reply": "2024-02-08T11:50:46.926662Z"
    },
    "papermill": {
     "duration": 0.385388,
     "end_time": "2024-02-08T11:50:46.930284",
     "exception": false,
     "start_time": "2024-02-08T11:50:46.544896",
     "status": "completed"
    },
    "tags": []
   },
   "outputs": [
    {
     "name": "stdout",
     "output_type": "stream",
     "text": [
      "Accuracy score for LogisticRegression :\n",
      "              precision    recall  f1-score   support\n",
      "\n",
      "           0       1.00      1.00      1.00        10\n",
      "           1       1.00      1.00      1.00         9\n",
      "           2       1.00      1.00      1.00        11\n",
      "\n",
      "    accuracy                           1.00        30\n",
      "   macro avg       1.00      1.00      1.00        30\n",
      "weighted avg       1.00      1.00      1.00        30\n",
      "\n",
      "\n",
      "Accuracy score for DecisionTreeClassifier :\n",
      "              precision    recall  f1-score   support\n",
      "\n",
      "           0       1.00      1.00      1.00        10\n",
      "           1       1.00      1.00      1.00         9\n",
      "           2       1.00      1.00      1.00        11\n",
      "\n",
      "    accuracy                           1.00        30\n",
      "   macro avg       1.00      1.00      1.00        30\n",
      "weighted avg       1.00      1.00      1.00        30\n",
      "\n",
      "\n",
      "Accuracy score for RandomForestClassifier :\n",
      "              precision    recall  f1-score   support\n",
      "\n",
      "           0       1.00      1.00      1.00        10\n",
      "           1       1.00      1.00      1.00         9\n",
      "           2       1.00      1.00      1.00        11\n",
      "\n",
      "    accuracy                           1.00        30\n",
      "   macro avg       1.00      1.00      1.00        30\n",
      "weighted avg       1.00      1.00      1.00        30\n",
      "\n",
      "\n",
      "Accuracy score for SVC :\n",
      "              precision    recall  f1-score   support\n",
      "\n",
      "           0       1.00      1.00      1.00        10\n",
      "           1       1.00      1.00      1.00         9\n",
      "           2       1.00      1.00      1.00        11\n",
      "\n",
      "    accuracy                           1.00        30\n",
      "   macro avg       1.00      1.00      1.00        30\n",
      "weighted avg       1.00      1.00      1.00        30\n",
      "\n",
      "\n",
      "Accuracy score for KNeighborsClassifier :\n",
      "              precision    recall  f1-score   support\n",
      "\n",
      "           0       1.00      1.00      1.00        10\n",
      "           1       1.00      1.00      1.00         9\n",
      "           2       1.00      1.00      1.00        11\n",
      "\n",
      "    accuracy                           1.00        30\n",
      "   macro avg       1.00      1.00      1.00        30\n",
      "weighted avg       1.00      1.00      1.00        30\n",
      "\n",
      "\n",
      "Accuracy score for GaussianNB :\n",
      "              precision    recall  f1-score   support\n",
      "\n",
      "           0       1.00      1.00      1.00        10\n",
      "           1       1.00      1.00      1.00         9\n",
      "           2       1.00      1.00      1.00        11\n",
      "\n",
      "    accuracy                           1.00        30\n",
      "   macro avg       1.00      1.00      1.00        30\n",
      "weighted avg       1.00      1.00      1.00        30\n",
      "\n",
      "\n",
      "Accuracy score for XGBClassifier :\n",
      "              precision    recall  f1-score   support\n",
      "\n",
      "           0       1.00      1.00      1.00        10\n",
      "           1       1.00      1.00      1.00         9\n",
      "           2       1.00      1.00      1.00        11\n",
      "\n",
      "    accuracy                           1.00        30\n",
      "   macro avg       1.00      1.00      1.00        30\n",
      "weighted avg       1.00      1.00      1.00        30\n",
      "\n",
      "\n"
     ]
    }
   ],
   "source": [
    "warnings.filterwarnings(\"ignore\")\n",
    "models=[LogisticRegression(),DecisionTreeClassifier(),RandomForestClassifier(),SVC(),KNeighborsClassifier(),GaussianNB(),XGBClassifier()]\n",
    "for model in models:\n",
    "    model.fit(X_train,y_train)\n",
    "    y_pred=model.predict(X_test)\n",
    "    rep = classification_report(y_test,y_pred)\n",
    "    print(f\"Accuracy score for {model.__class__.__name__} :\\n{rep}\\n\")"
   ]
  },
  {
   "cell_type": "markdown",
   "id": "33e75b5d",
   "metadata": {
    "papermill": {
     "duration": 0.004023,
     "end_time": "2024-02-08T11:50:46.938905",
     "exception": false,
     "start_time": "2024-02-08T11:50:46.934882",
     "status": "completed"
    },
    "tags": []
   },
   "source": [
    "**3.2 Deep Learning Classification - Multi Layer Perceptron**"
   ]
  },
  {
   "cell_type": "code",
   "execution_count": 6,
   "id": "a110a210",
   "metadata": {
    "execution": {
     "iopub.execute_input": "2024-02-08T11:50:46.950036Z",
     "iopub.status.busy": "2024-02-08T11:50:46.949069Z",
     "iopub.status.idle": "2024-02-08T11:50:47.650319Z",
     "shell.execute_reply": "2024-02-08T11:50:47.649086Z"
    },
    "papermill": {
     "duration": 0.710588,
     "end_time": "2024-02-08T11:50:47.654240",
     "exception": false,
     "start_time": "2024-02-08T11:50:46.943652",
     "status": "completed"
    },
    "tags": []
   },
   "outputs": [
    {
     "name": "stdout",
     "output_type": "stream",
     "text": [
      "Accuracy score for Multi Layer Perceptron :\n",
      "              precision    recall  f1-score   support\n",
      "\n",
      "           0       1.00      1.00      1.00        10\n",
      "           1       1.00      1.00      1.00         9\n",
      "           2       1.00      1.00      1.00        11\n",
      "\n",
      "    accuracy                           1.00        30\n",
      "   macro avg       1.00      1.00      1.00        30\n",
      "weighted avg       1.00      1.00      1.00        30\n",
      "\n",
      "\n"
     ]
    }
   ],
   "source": [
    "mlp=MLPClassifier(hidden_layer_sizes=(100,50),activation=\"relu\",max_iter=1000,random_state=42)\n",
    "mlp.fit(X_train,y_train)\n",
    "mlp_pred=mlp.predict(X_test)\n",
    "mlp_res=classification_report(y_test,y_pred)\n",
    "print(f\"Accuracy score for Multi Layer Perceptron :\\n{mlp_res}\\n\")"
   ]
  },
  {
   "cell_type": "code",
   "execution_count": 7,
   "id": "835a1503",
   "metadata": {
    "execution": {
     "iopub.execute_input": "2024-02-08T11:50:47.671268Z",
     "iopub.status.busy": "2024-02-08T11:50:47.670672Z",
     "iopub.status.idle": "2024-02-08T11:50:47.678288Z",
     "shell.execute_reply": "2024-02-08T11:50:47.677107Z"
    },
    "papermill": {
     "duration": 0.019717,
     "end_time": "2024-02-08T11:50:47.681230",
     "exception": false,
     "start_time": "2024-02-08T11:50:47.661513",
     "status": "completed"
    },
    "tags": []
   },
   "outputs": [],
   "source": [
    "# import matplotlib.pyplot as plt\n",
    "# from sklearn.model_selection import train_test_split\n",
    "# from sklearn.metrics import accuracy_score\n",
    "# from sklearn.linear_model import LogisticRegression\n",
    "# from sklearn.tree import DecisionTreeClassifier\n",
    "# from sklearn.ensemble import RandomForestClassifier\n",
    "# from sklearn.svm import SVC\n",
    "# from sklearn.neighbors import KNeighborsClassifier\n",
    "# from sklearn.naive_bayes import GaussianNB\n",
    "# import seaborn as sns\n",
    "\n",
    "# # Assuming df is your DataFrame with feature columns and the target variable 'Species'\n",
    "# X = df.drop('Species', axis=1)\n",
    "# y = df['Species']\n",
    "\n",
    "# # Assuming X and y are your feature matrix and target variable\n",
    "# X_train, X_test, y_train, y_test = train_test_split(X, y, test_size=0.2, random_state=42)\n",
    "\n",
    "# # List of classification models\n",
    "# models = [\n",
    "#     LogisticRegression(),\n",
    "#     DecisionTreeClassifier(),\n",
    "#     RandomForestClassifier(),\n",
    "#     SVC(),\n",
    "#     KNeighborsClassifier(),\n",
    "#     GaussianNB()\n",
    "# ]\n",
    "\n",
    "# # Create subplots for each model\n",
    "# fig, axes = plt.subplots(nrows=len(models), ncols=2, figsize=(12, 8))\n",
    "# fig.subplots_adjust(hspace=0.5)\n",
    "\n",
    "# # Iterate over models\n",
    "# for i, model in enumerate(models):\n",
    "#     # Fit the model on the training data\n",
    "#     model.fit(X_train, y_train)\n",
    "    \n",
    "#     # Predict on the test data\n",
    "#     y_pred = model.predict(X_test)\n",
    "    \n",
    "#     # Plot actual versus predicted for two classes (adjust for your specific classes)\n",
    "#     sns.scatterplot(x=X_test.iloc[:, 0], y=X_test.iloc[:, 1], hue=y_test, ax=axes[i, 0], palette='viridis', marker='o', s=50)\n",
    "#     axes[i, 0].set_title(f\"Actual Values - {model.__class__.__name__}\")\n",
    "    \n",
    "#     sns.scatterplot(x=X_test.iloc[:, 0], y=X_test.iloc[:, 1], hue=y_pred, ax=axes[i, 1], palette='viridis', marker='o', s=50)\n",
    "#     axes[i, 1].set_title(f\"Predicted Values - {model.__class__.__name__}\")\n",
    "\n",
    "# plt.show()"
   ]
  }
 ],
 "metadata": {
  "kaggle": {
   "accelerator": "none",
   "dataSources": [
    {
     "datasetId": 19,
     "sourceId": 420,
     "sourceType": "datasetVersion"
    }
   ],
   "dockerImageVersionId": 30646,
   "isGpuEnabled": false,
   "isInternetEnabled": true,
   "language": "python",
   "sourceType": "notebook"
  },
  "kernelspec": {
   "display_name": "Python 3",
   "language": "python",
   "name": "python3"
  },
  "language_info": {
   "codemirror_mode": {
    "name": "ipython",
    "version": 3
   },
   "file_extension": ".py",
   "mimetype": "text/x-python",
   "name": "python",
   "nbconvert_exporter": "python",
   "pygments_lexer": "ipython3",
   "version": "3.10.13"
  },
  "papermill": {
   "default_parameters": {},
   "duration": 7.437879,
   "end_time": "2024-02-08T11:50:48.321473",
   "environment_variables": {},
   "exception": null,
   "input_path": "__notebook__.ipynb",
   "output_path": "__notebook__.ipynb",
   "parameters": {},
   "start_time": "2024-02-08T11:50:40.883594",
   "version": "2.5.0"
  }
 },
 "nbformat": 4,
 "nbformat_minor": 5
}
