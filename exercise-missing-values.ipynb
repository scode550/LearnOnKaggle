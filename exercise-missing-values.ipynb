{
 "cells": [
  {
   "cell_type": "markdown",
   "id": "5789c197",
   "metadata": {
    "papermill": {
     "duration": 0.009326,
     "end_time": "2024-01-25T09:06:30.748937",
     "exception": false,
     "start_time": "2024-01-25T09:06:30.739611",
     "status": "completed"
    },
    "tags": []
   },
   "source": [
    "**This notebook is an exercise in the [Intermediate Machine Learning](https://www.kaggle.com/learn/intermediate-machine-learning) course.  You can reference the tutorial at [this link](https://www.kaggle.com/alexisbcook/missing-values).**\n",
    "\n",
    "---\n"
   ]
  },
  {
   "cell_type": "markdown",
   "id": "6527324a",
   "metadata": {
    "papermill": {
     "duration": 0.008452,
     "end_time": "2024-01-25T09:06:30.766183",
     "exception": false,
     "start_time": "2024-01-25T09:06:30.757731",
     "status": "completed"
    },
    "tags": []
   },
   "source": [
    "Now it's your turn to test your new knowledge of **missing values** handling. You'll probably find it makes a big difference.\n",
    "\n",
    "# Setup\n",
    "\n",
    "The questions will give you feedback on your work. Run the following cell to set up the feedback system."
   ]
  },
  {
   "cell_type": "code",
   "execution_count": 1,
   "id": "912702ea",
   "metadata": {
    "execution": {
     "iopub.execute_input": "2024-01-25T09:06:30.785182Z",
     "iopub.status.busy": "2024-01-25T09:06:30.784403Z",
     "iopub.status.idle": "2024-01-25T09:06:31.663242Z",
     "shell.execute_reply": "2024-01-25T09:06:31.661986Z"
    },
    "papermill": {
     "duration": 0.891796,
     "end_time": "2024-01-25T09:06:31.666484",
     "exception": false,
     "start_time": "2024-01-25T09:06:30.774688",
     "status": "completed"
    },
    "tags": []
   },
   "outputs": [
    {
     "name": "stdout",
     "output_type": "stream",
     "text": [
      "Setup Complete\n"
     ]
    }
   ],
   "source": [
    "# Set up code checking\n",
    "import os\n",
    "if not os.path.exists(\"../input/train.csv\"):\n",
    "    os.symlink(\"../input/home-data-for-ml-course/train.csv\", \"../input/train.csv\")  \n",
    "    os.symlink(\"../input/home-data-for-ml-course/test.csv\", \"../input/test.csv\") \n",
    "from learntools.core import binder\n",
    "binder.bind(globals())\n",
    "from learntools.ml_intermediate.ex2 import *\n",
    "print(\"Setup Complete\")"
   ]
  },
  {
   "cell_type": "markdown",
   "id": "8c0159b3",
   "metadata": {
    "papermill": {
     "duration": 0.008135,
     "end_time": "2024-01-25T09:06:31.683809",
     "exception": false,
     "start_time": "2024-01-25T09:06:31.675674",
     "status": "completed"
    },
    "tags": []
   },
   "source": [
    "In this exercise, you will work with data from the [Housing Prices Competition for Kaggle Learn Users](https://www.kaggle.com/c/home-data-for-ml-course). \n",
    "\n",
    "![Ames Housing dataset image](https://storage.googleapis.com/kaggle-media/learn/images/lTJVG4e.png)\n",
    "\n",
    "Run the next code cell without changes to load the training and validation sets in `X_train`, `X_valid`, `y_train`, and `y_valid`.  The test set is loaded in `X_test`."
   ]
  },
  {
   "cell_type": "code",
   "execution_count": 2,
   "id": "8b039741",
   "metadata": {
    "execution": {
     "iopub.execute_input": "2024-01-25T09:06:31.702757Z",
     "iopub.status.busy": "2024-01-25T09:06:31.702219Z",
     "iopub.status.idle": "2024-01-25T09:06:33.173542Z",
     "shell.execute_reply": "2024-01-25T09:06:33.171994Z"
    },
    "papermill": {
     "duration": 1.483698,
     "end_time": "2024-01-25T09:06:33.176081",
     "exception": false,
     "start_time": "2024-01-25T09:06:31.692383",
     "status": "completed"
    },
    "tags": []
   },
   "outputs": [],
   "source": [
    "import pandas as pd\n",
    "from sklearn.model_selection import train_test_split\n",
    "\n",
    "# Read the data\n",
    "X_full = pd.read_csv('../input/train.csv', index_col='Id')\n",
    "X_test_full = pd.read_csv('../input/test.csv', index_col='Id')\n",
    "\n",
    "# Remove rows with missing target, separate target from predictors\n",
    "X_full.dropna(axis=0, subset=['SalePrice'], inplace=True)\n",
    "y = X_full.SalePrice\n",
    "X_full.drop(['SalePrice'], axis=1, inplace=True)\n",
    "\n",
    "# To keep things simple, we'll use only numerical predictors\n",
    "X = X_full.select_dtypes(exclude=['object'])\n",
    "X_test = X_test_full.select_dtypes(exclude=['object'])\n",
    "\n",
    "# Break off validation set from training data\n",
    "X_train, X_valid, y_train, y_valid = train_test_split(X, y, train_size=0.8, test_size=0.2,\n",
    "                                                      random_state=0)"
   ]
  },
  {
   "cell_type": "markdown",
   "id": "4fe7baaa",
   "metadata": {
    "papermill": {
     "duration": 0.008174,
     "end_time": "2024-01-25T09:06:33.193810",
     "exception": false,
     "start_time": "2024-01-25T09:06:33.185636",
     "status": "completed"
    },
    "tags": []
   },
   "source": [
    "Use the next code cell to print the first five rows of the data."
   ]
  },
  {
   "cell_type": "code",
   "execution_count": 3,
   "id": "28eae584",
   "metadata": {
    "execution": {
     "iopub.execute_input": "2024-01-25T09:06:33.212845Z",
     "iopub.status.busy": "2024-01-25T09:06:33.212427Z",
     "iopub.status.idle": "2024-01-25T09:06:33.240509Z",
     "shell.execute_reply": "2024-01-25T09:06:33.239308Z"
    },
    "papermill": {
     "duration": 0.040447,
     "end_time": "2024-01-25T09:06:33.242982",
     "exception": false,
     "start_time": "2024-01-25T09:06:33.202535",
     "status": "completed"
    },
    "tags": []
   },
   "outputs": [
    {
     "data": {
      "text/html": [
       "<div>\n",
       "<style scoped>\n",
       "    .dataframe tbody tr th:only-of-type {\n",
       "        vertical-align: middle;\n",
       "    }\n",
       "\n",
       "    .dataframe tbody tr th {\n",
       "        vertical-align: top;\n",
       "    }\n",
       "\n",
       "    .dataframe thead th {\n",
       "        text-align: right;\n",
       "    }\n",
       "</style>\n",
       "<table border=\"1\" class=\"dataframe\">\n",
       "  <thead>\n",
       "    <tr style=\"text-align: right;\">\n",
       "      <th></th>\n",
       "      <th>MSSubClass</th>\n",
       "      <th>LotFrontage</th>\n",
       "      <th>LotArea</th>\n",
       "      <th>OverallQual</th>\n",
       "      <th>OverallCond</th>\n",
       "      <th>YearBuilt</th>\n",
       "      <th>YearRemodAdd</th>\n",
       "      <th>MasVnrArea</th>\n",
       "      <th>BsmtFinSF1</th>\n",
       "      <th>BsmtFinSF2</th>\n",
       "      <th>...</th>\n",
       "      <th>GarageArea</th>\n",
       "      <th>WoodDeckSF</th>\n",
       "      <th>OpenPorchSF</th>\n",
       "      <th>EnclosedPorch</th>\n",
       "      <th>3SsnPorch</th>\n",
       "      <th>ScreenPorch</th>\n",
       "      <th>PoolArea</th>\n",
       "      <th>MiscVal</th>\n",
       "      <th>MoSold</th>\n",
       "      <th>YrSold</th>\n",
       "    </tr>\n",
       "    <tr>\n",
       "      <th>Id</th>\n",
       "      <th></th>\n",
       "      <th></th>\n",
       "      <th></th>\n",
       "      <th></th>\n",
       "      <th></th>\n",
       "      <th></th>\n",
       "      <th></th>\n",
       "      <th></th>\n",
       "      <th></th>\n",
       "      <th></th>\n",
       "      <th></th>\n",
       "      <th></th>\n",
       "      <th></th>\n",
       "      <th></th>\n",
       "      <th></th>\n",
       "      <th></th>\n",
       "      <th></th>\n",
       "      <th></th>\n",
       "      <th></th>\n",
       "      <th></th>\n",
       "      <th></th>\n",
       "    </tr>\n",
       "  </thead>\n",
       "  <tbody>\n",
       "    <tr>\n",
       "      <th>619</th>\n",
       "      <td>20</td>\n",
       "      <td>90.0</td>\n",
       "      <td>11694</td>\n",
       "      <td>9</td>\n",
       "      <td>5</td>\n",
       "      <td>2007</td>\n",
       "      <td>2007</td>\n",
       "      <td>452.0</td>\n",
       "      <td>48</td>\n",
       "      <td>0</td>\n",
       "      <td>...</td>\n",
       "      <td>774</td>\n",
       "      <td>0</td>\n",
       "      <td>108</td>\n",
       "      <td>0</td>\n",
       "      <td>0</td>\n",
       "      <td>260</td>\n",
       "      <td>0</td>\n",
       "      <td>0</td>\n",
       "      <td>7</td>\n",
       "      <td>2007</td>\n",
       "    </tr>\n",
       "    <tr>\n",
       "      <th>871</th>\n",
       "      <td>20</td>\n",
       "      <td>60.0</td>\n",
       "      <td>6600</td>\n",
       "      <td>5</td>\n",
       "      <td>5</td>\n",
       "      <td>1962</td>\n",
       "      <td>1962</td>\n",
       "      <td>0.0</td>\n",
       "      <td>0</td>\n",
       "      <td>0</td>\n",
       "      <td>...</td>\n",
       "      <td>308</td>\n",
       "      <td>0</td>\n",
       "      <td>0</td>\n",
       "      <td>0</td>\n",
       "      <td>0</td>\n",
       "      <td>0</td>\n",
       "      <td>0</td>\n",
       "      <td>0</td>\n",
       "      <td>8</td>\n",
       "      <td>2009</td>\n",
       "    </tr>\n",
       "    <tr>\n",
       "      <th>93</th>\n",
       "      <td>30</td>\n",
       "      <td>80.0</td>\n",
       "      <td>13360</td>\n",
       "      <td>5</td>\n",
       "      <td>7</td>\n",
       "      <td>1921</td>\n",
       "      <td>2006</td>\n",
       "      <td>0.0</td>\n",
       "      <td>713</td>\n",
       "      <td>0</td>\n",
       "      <td>...</td>\n",
       "      <td>432</td>\n",
       "      <td>0</td>\n",
       "      <td>0</td>\n",
       "      <td>44</td>\n",
       "      <td>0</td>\n",
       "      <td>0</td>\n",
       "      <td>0</td>\n",
       "      <td>0</td>\n",
       "      <td>8</td>\n",
       "      <td>2009</td>\n",
       "    </tr>\n",
       "    <tr>\n",
       "      <th>818</th>\n",
       "      <td>20</td>\n",
       "      <td>NaN</td>\n",
       "      <td>13265</td>\n",
       "      <td>8</td>\n",
       "      <td>5</td>\n",
       "      <td>2002</td>\n",
       "      <td>2002</td>\n",
       "      <td>148.0</td>\n",
       "      <td>1218</td>\n",
       "      <td>0</td>\n",
       "      <td>...</td>\n",
       "      <td>857</td>\n",
       "      <td>150</td>\n",
       "      <td>59</td>\n",
       "      <td>0</td>\n",
       "      <td>0</td>\n",
       "      <td>0</td>\n",
       "      <td>0</td>\n",
       "      <td>0</td>\n",
       "      <td>7</td>\n",
       "      <td>2008</td>\n",
       "    </tr>\n",
       "    <tr>\n",
       "      <th>303</th>\n",
       "      <td>20</td>\n",
       "      <td>118.0</td>\n",
       "      <td>13704</td>\n",
       "      <td>7</td>\n",
       "      <td>5</td>\n",
       "      <td>2001</td>\n",
       "      <td>2002</td>\n",
       "      <td>150.0</td>\n",
       "      <td>0</td>\n",
       "      <td>0</td>\n",
       "      <td>...</td>\n",
       "      <td>843</td>\n",
       "      <td>468</td>\n",
       "      <td>81</td>\n",
       "      <td>0</td>\n",
       "      <td>0</td>\n",
       "      <td>0</td>\n",
       "      <td>0</td>\n",
       "      <td>0</td>\n",
       "      <td>1</td>\n",
       "      <td>2006</td>\n",
       "    </tr>\n",
       "  </tbody>\n",
       "</table>\n",
       "<p>5 rows × 36 columns</p>\n",
       "</div>"
      ],
      "text/plain": [
       "     MSSubClass  LotFrontage  LotArea  OverallQual  OverallCond  YearBuilt  \\\n",
       "Id                                                                           \n",
       "619          20         90.0    11694            9            5       2007   \n",
       "871          20         60.0     6600            5            5       1962   \n",
       "93           30         80.0    13360            5            7       1921   \n",
       "818          20          NaN    13265            8            5       2002   \n",
       "303          20        118.0    13704            7            5       2001   \n",
       "\n",
       "     YearRemodAdd  MasVnrArea  BsmtFinSF1  BsmtFinSF2  ...  GarageArea  \\\n",
       "Id                                                     ...               \n",
       "619          2007       452.0          48           0  ...         774   \n",
       "871          1962         0.0           0           0  ...         308   \n",
       "93           2006         0.0         713           0  ...         432   \n",
       "818          2002       148.0        1218           0  ...         857   \n",
       "303          2002       150.0           0           0  ...         843   \n",
       "\n",
       "     WoodDeckSF  OpenPorchSF  EnclosedPorch  3SsnPorch  ScreenPorch  PoolArea  \\\n",
       "Id                                                                              \n",
       "619           0          108              0          0          260         0   \n",
       "871           0            0              0          0            0         0   \n",
       "93            0            0             44          0            0         0   \n",
       "818         150           59              0          0            0         0   \n",
       "303         468           81              0          0            0         0   \n",
       "\n",
       "     MiscVal  MoSold  YrSold  \n",
       "Id                            \n",
       "619        0       7    2007  \n",
       "871        0       8    2009  \n",
       "93         0       8    2009  \n",
       "818        0       7    2008  \n",
       "303        0       1    2006  \n",
       "\n",
       "[5 rows x 36 columns]"
      ]
     },
     "execution_count": 3,
     "metadata": {},
     "output_type": "execute_result"
    }
   ],
   "source": [
    "X_train.head()"
   ]
  },
  {
   "cell_type": "markdown",
   "id": "84a0a4e3",
   "metadata": {
    "papermill": {
     "duration": 0.008641,
     "end_time": "2024-01-25T09:06:33.260660",
     "exception": false,
     "start_time": "2024-01-25T09:06:33.252019",
     "status": "completed"
    },
    "tags": []
   },
   "source": [
    "You can already see a few missing values in the first several rows.  In the next step, you'll obtain a more comprehensive understanding of the missing values in the dataset.\n",
    "\n",
    "# Step 1: Preliminary investigation\n",
    "\n",
    "Run the code cell below without changes."
   ]
  },
  {
   "cell_type": "code",
   "execution_count": 4,
   "id": "48029070",
   "metadata": {
    "execution": {
     "iopub.execute_input": "2024-01-25T09:06:33.280174Z",
     "iopub.status.busy": "2024-01-25T09:06:33.279749Z",
     "iopub.status.idle": "2024-01-25T09:06:33.289743Z",
     "shell.execute_reply": "2024-01-25T09:06:33.288172Z"
    },
    "papermill": {
     "duration": 0.022496,
     "end_time": "2024-01-25T09:06:33.292117",
     "exception": false,
     "start_time": "2024-01-25T09:06:33.269621",
     "status": "completed"
    },
    "tags": []
   },
   "outputs": [
    {
     "name": "stdout",
     "output_type": "stream",
     "text": [
      "(1168, 36)\n",
      "LotFrontage    212\n",
      "MasVnrArea       6\n",
      "GarageYrBlt     58\n",
      "dtype: int64\n"
     ]
    }
   ],
   "source": [
    "# Shape of training data (num_rows, num_columns)\n",
    "print(X_train.shape)\n",
    "\n",
    "# Number of missing values in each column of training data\n",
    "missing_val_count_by_column = (X_train.isnull().sum())\n",
    "print(missing_val_count_by_column[missing_val_count_by_column>0])"
   ]
  },
  {
   "cell_type": "markdown",
   "id": "8a26d590",
   "metadata": {
    "papermill": {
     "duration": 0.008526,
     "end_time": "2024-01-25T09:06:33.310175",
     "exception": false,
     "start_time": "2024-01-25T09:06:33.301649",
     "status": "completed"
    },
    "tags": []
   },
   "source": [
    "### Part A\n",
    "\n",
    "Use the above output to answer the questions below."
   ]
  },
  {
   "cell_type": "code",
   "execution_count": 5,
   "id": "63bad437",
   "metadata": {
    "execution": {
     "iopub.execute_input": "2024-01-25T09:06:33.330970Z",
     "iopub.status.busy": "2024-01-25T09:06:33.330305Z",
     "iopub.status.idle": "2024-01-25T09:06:33.338688Z",
     "shell.execute_reply": "2024-01-25T09:06:33.337681Z"
    },
    "papermill": {
     "duration": 0.020921,
     "end_time": "2024-01-25T09:06:33.340781",
     "exception": false,
     "start_time": "2024-01-25T09:06:33.319860",
     "status": "completed"
    },
    "tags": []
   },
   "outputs": [
    {
     "data": {
      "application/javascript": [
       "parent.postMessage({\"jupyterEvent\": \"custom.exercise_interaction\", \"data\": {\"outcomeType\": 1, \"valueTowardsCompletion\": 1.0, \"interactionType\": 1, \"questionType\": 1, \"questionId\": \"1.1_InvestigateEquality\", \"learnToolsVersion\": \"0.3.4\", \"failureMessage\": \"\", \"exceptionClass\": \"\", \"trace\": \"\"}}, \"*\")"
      ],
      "text/plain": [
       "<IPython.core.display.Javascript object>"
      ]
     },
     "metadata": {},
     "output_type": "display_data"
    },
    {
     "data": {
      "text/markdown": [
       "<span style=\"color:#33cc33\">Correct</span>"
      ],
      "text/plain": [
       "Correct"
      ]
     },
     "metadata": {},
     "output_type": "display_data"
    }
   ],
   "source": [
    "# Fill in the line below: How many rows are in the training data?\n",
    "num_rows = 1168\n",
    "\n",
    "# Fill in the line below: How many columns in the training data\n",
    "# have missing values?\n",
    "num_cols_with_missing = 3\n",
    "\n",
    "# Fill in the line below: How many missing entries are contained in \n",
    "# all of the training data?\n",
    "tot_missing = 276\n",
    "\n",
    "# Check your answers\n",
    "step_1.a.check()"
   ]
  },
  {
   "cell_type": "code",
   "execution_count": 6,
   "id": "dcb720c1",
   "metadata": {
    "execution": {
     "iopub.execute_input": "2024-01-25T09:06:33.362601Z",
     "iopub.status.busy": "2024-01-25T09:06:33.361914Z",
     "iopub.status.idle": "2024-01-25T09:06:33.366589Z",
     "shell.execute_reply": "2024-01-25T09:06:33.365447Z"
    },
    "papermill": {
     "duration": 0.01883,
     "end_time": "2024-01-25T09:06:33.369007",
     "exception": false,
     "start_time": "2024-01-25T09:06:33.350177",
     "status": "completed"
    },
    "tags": []
   },
   "outputs": [],
   "source": [
    "# Lines below will give you a hint or solution code\n",
    "#step_1.a.hint()\n",
    "#step_1.a.solution()"
   ]
  },
  {
   "cell_type": "markdown",
   "id": "83fa586b",
   "metadata": {
    "papermill": {
     "duration": 0.009239,
     "end_time": "2024-01-25T09:06:33.388993",
     "exception": false,
     "start_time": "2024-01-25T09:06:33.379754",
     "status": "completed"
    },
    "tags": []
   },
   "source": [
    "### Part B\n",
    "Considering your answers above, what do you think is likely the best approach to dealing with the missing values?"
   ]
  },
  {
   "cell_type": "code",
   "execution_count": 7,
   "id": "8cafa5bd",
   "metadata": {
    "execution": {
     "iopub.execute_input": "2024-01-25T09:06:33.410087Z",
     "iopub.status.busy": "2024-01-25T09:06:33.409629Z",
     "iopub.status.idle": "2024-01-25T09:06:33.417589Z",
     "shell.execute_reply": "2024-01-25T09:06:33.416659Z"
    },
    "papermill": {
     "duration": 0.021147,
     "end_time": "2024-01-25T09:06:33.419903",
     "exception": false,
     "start_time": "2024-01-25T09:06:33.398756",
     "status": "completed"
    },
    "tags": []
   },
   "outputs": [
    {
     "data": {
      "application/javascript": [
       "parent.postMessage({\"jupyterEvent\": \"custom.exercise_interaction\", \"data\": {\"outcomeType\": 1, \"valueTowardsCompletion\": 1.0, \"interactionType\": 1, \"questionType\": 4, \"questionId\": \"1.2_InvestigateThought\", \"learnToolsVersion\": \"0.3.4\", \"failureMessage\": \"\", \"exceptionClass\": \"\", \"trace\": \"\"}}, \"*\")"
      ],
      "text/plain": [
       "<IPython.core.display.Javascript object>"
      ]
     },
     "metadata": {},
     "output_type": "display_data"
    },
    {
     "data": {
      "text/markdown": [
       "<span style=\"color:#33cc33\">Correct:</span> \n",
       "\n",
       "Since there are relatively few missing entries in the data (the column with the greatest percentage of missing values is missing less than 20% of its entries), we can expect that dropping columns is unlikely to yield good results.  This is because we'd be throwing away a lot of valuable data, and so imputation will likely perform better."
      ],
      "text/plain": [
       "Correct: \n",
       "\n",
       "Since there are relatively few missing entries in the data (the column with the greatest percentage of missing values is missing less than 20% of its entries), we can expect that dropping columns is unlikely to yield good results.  This is because we'd be throwing away a lot of valuable data, and so imputation will likely perform better."
      ]
     },
     "metadata": {},
     "output_type": "display_data"
    }
   ],
   "source": [
    "# Check your answer (Run this code cell to receive credit!)\n",
    "step_1.b.check()"
   ]
  },
  {
   "cell_type": "code",
   "execution_count": 8,
   "id": "2a2396af",
   "metadata": {
    "execution": {
     "iopub.execute_input": "2024-01-25T09:06:33.440696Z",
     "iopub.status.busy": "2024-01-25T09:06:33.440262Z",
     "iopub.status.idle": "2024-01-25T09:06:33.445576Z",
     "shell.execute_reply": "2024-01-25T09:06:33.444237Z"
    },
    "papermill": {
     "duration": 0.018508,
     "end_time": "2024-01-25T09:06:33.448015",
     "exception": false,
     "start_time": "2024-01-25T09:06:33.429507",
     "status": "completed"
    },
    "tags": []
   },
   "outputs": [],
   "source": [
    "#step_1.b.hint()"
   ]
  },
  {
   "cell_type": "markdown",
   "id": "fac69326",
   "metadata": {
    "papermill": {
     "duration": 0.009299,
     "end_time": "2024-01-25T09:06:33.466920",
     "exception": false,
     "start_time": "2024-01-25T09:06:33.457621",
     "status": "completed"
    },
    "tags": []
   },
   "source": [
    "To compare different approaches to dealing with missing values, you'll use the same `score_dataset()` function from the tutorial.  This function reports the [mean absolute error](https://en.wikipedia.org/wiki/Mean_absolute_error) (MAE) from a random forest model."
   ]
  },
  {
   "cell_type": "code",
   "execution_count": 9,
   "id": "4d88ba2d",
   "metadata": {
    "execution": {
     "iopub.execute_input": "2024-01-25T09:06:33.488151Z",
     "iopub.status.busy": "2024-01-25T09:06:33.487344Z",
     "iopub.status.idle": "2024-01-25T09:06:33.831257Z",
     "shell.execute_reply": "2024-01-25T09:06:33.830007Z"
    },
    "papermill": {
     "duration": 0.357904,
     "end_time": "2024-01-25T09:06:33.834316",
     "exception": false,
     "start_time": "2024-01-25T09:06:33.476412",
     "status": "completed"
    },
    "tags": []
   },
   "outputs": [],
   "source": [
    "from sklearn.ensemble import RandomForestRegressor\n",
    "from sklearn.metrics import mean_absolute_error\n",
    "\n",
    "# Function for comparing different approaches\n",
    "def score_dataset(X_train, X_valid, y_train, y_valid):\n",
    "    model = RandomForestRegressor(n_estimators=100, random_state=0)\n",
    "    model.fit(X_train, y_train)\n",
    "    preds = model.predict(X_valid)\n",
    "    return mean_absolute_error(y_valid, preds)"
   ]
  },
  {
   "cell_type": "markdown",
   "id": "4fead473",
   "metadata": {
    "papermill": {
     "duration": 0.011147,
     "end_time": "2024-01-25T09:06:33.858882",
     "exception": false,
     "start_time": "2024-01-25T09:06:33.847735",
     "status": "completed"
    },
    "tags": []
   },
   "source": [
    "# Step 2: Drop columns with missing values\n",
    "\n",
    "In this step, you'll preprocess the data in `X_train` and `X_valid` to remove columns with missing values.  Set the preprocessed DataFrames to `reduced_X_train` and `reduced_X_valid`, respectively.  "
   ]
  },
  {
   "cell_type": "code",
   "execution_count": 10,
   "id": "75dab750",
   "metadata": {
    "execution": {
     "iopub.execute_input": "2024-01-25T09:06:33.881870Z",
     "iopub.status.busy": "2024-01-25T09:06:33.881438Z",
     "iopub.status.idle": "2024-01-25T09:06:33.912139Z",
     "shell.execute_reply": "2024-01-25T09:06:33.910935Z"
    },
    "papermill": {
     "duration": 0.044966,
     "end_time": "2024-01-25T09:06:33.914315",
     "exception": false,
     "start_time": "2024-01-25T09:06:33.869349",
     "status": "completed"
    },
    "tags": []
   },
   "outputs": [
    {
     "data": {
      "application/javascript": [
       "parent.postMessage({\"jupyterEvent\": \"custom.exercise_interaction\", \"data\": {\"outcomeType\": 1, \"valueTowardsCompletion\": 1.0, \"interactionType\": 1, \"questionType\": 2, \"questionId\": \"2_DropMissing\", \"learnToolsVersion\": \"0.3.4\", \"failureMessage\": \"\", \"exceptionClass\": \"\", \"trace\": \"\"}}, \"*\")"
      ],
      "text/plain": [
       "<IPython.core.display.Javascript object>"
      ]
     },
     "metadata": {},
     "output_type": "display_data"
    },
    {
     "data": {
      "text/markdown": [
       "<span style=\"color:#33cc33\">Correct</span>"
      ],
      "text/plain": [
       "Correct"
      ]
     },
     "metadata": {},
     "output_type": "display_data"
    }
   ],
   "source": [
    "# Fill in the line below: get names of columns with missing values\n",
    "missing_values_columns=[col for col in X_train.columns\n",
    "                        if X_train[col].isnull().any()]# Your code here\n",
    "\n",
    "# Fill in the lines below: drop columns in training and validation data\n",
    "reduced_X_train = X_train.drop(missing_values_columns,axis=1)\n",
    "reduced_X_valid = X_valid.drop(missing_values_columns,axis=1)\n",
    "\n",
    "# Check your answers\n",
    "step_2.check()"
   ]
  },
  {
   "cell_type": "code",
   "execution_count": 11,
   "id": "7cab4b29",
   "metadata": {
    "execution": {
     "iopub.execute_input": "2024-01-25T09:06:33.938657Z",
     "iopub.status.busy": "2024-01-25T09:06:33.937735Z",
     "iopub.status.idle": "2024-01-25T09:06:33.943326Z",
     "shell.execute_reply": "2024-01-25T09:06:33.942320Z"
    },
    "papermill": {
     "duration": 0.021603,
     "end_time": "2024-01-25T09:06:33.946252",
     "exception": false,
     "start_time": "2024-01-25T09:06:33.924649",
     "status": "completed"
    },
    "tags": []
   },
   "outputs": [],
   "source": [
    "# Lines below will give you a hint or solution code\n",
    "# step_2.hint()\n",
    "# step_2.solution()"
   ]
  },
  {
   "cell_type": "markdown",
   "id": "efabc90d",
   "metadata": {
    "papermill": {
     "duration": 0.012961,
     "end_time": "2024-01-25T09:06:33.974550",
     "exception": false,
     "start_time": "2024-01-25T09:06:33.961589",
     "status": "completed"
    },
    "tags": []
   },
   "source": [
    "Run the next code cell without changes to obtain the MAE for this approach."
   ]
  },
  {
   "cell_type": "code",
   "execution_count": 12,
   "id": "c6280638",
   "metadata": {
    "execution": {
     "iopub.execute_input": "2024-01-25T09:06:34.001205Z",
     "iopub.status.busy": "2024-01-25T09:06:34.000353Z",
     "iopub.status.idle": "2024-01-25T09:06:35.287275Z",
     "shell.execute_reply": "2024-01-25T09:06:35.285844Z"
    },
    "papermill": {
     "duration": 1.303953,
     "end_time": "2024-01-25T09:06:35.289659",
     "exception": false,
     "start_time": "2024-01-25T09:06:33.985706",
     "status": "completed"
    },
    "tags": []
   },
   "outputs": [
    {
     "name": "stdout",
     "output_type": "stream",
     "text": [
      "MAE (Drop columns with missing values):\n",
      "17837.82570776256\n"
     ]
    }
   ],
   "source": [
    "print(\"MAE (Drop columns with missing values):\")\n",
    "print(score_dataset(reduced_X_train, reduced_X_valid, y_train, y_valid))"
   ]
  },
  {
   "cell_type": "markdown",
   "id": "b1bf90d2",
   "metadata": {
    "papermill": {
     "duration": 0.011253,
     "end_time": "2024-01-25T09:06:35.376933",
     "exception": false,
     "start_time": "2024-01-25T09:06:35.365680",
     "status": "completed"
    },
    "tags": []
   },
   "source": [
    "# Step 3: Imputation\n",
    "\n",
    "### Part A\n",
    "\n",
    "Use the next code cell to impute missing values with the mean value along each column.  Set the preprocessed DataFrames to `imputed_X_train` and `imputed_X_valid`.  Make sure that the column names match those in `X_train` and `X_valid`."
   ]
  },
  {
   "cell_type": "code",
   "execution_count": 13,
   "id": "8f56ebdd",
   "metadata": {
    "execution": {
     "iopub.execute_input": "2024-01-25T09:06:35.399465Z",
     "iopub.status.busy": "2024-01-25T09:06:35.399070Z",
     "iopub.status.idle": "2024-01-25T09:06:35.436264Z",
     "shell.execute_reply": "2024-01-25T09:06:35.435193Z"
    },
    "papermill": {
     "duration": 0.050735,
     "end_time": "2024-01-25T09:06:35.438249",
     "exception": false,
     "start_time": "2024-01-25T09:06:35.387514",
     "status": "completed"
    },
    "tags": []
   },
   "outputs": [
    {
     "data": {
      "application/javascript": [
       "parent.postMessage({\"jupyterEvent\": \"custom.exercise_interaction\", \"data\": {\"outcomeType\": 1, \"valueTowardsCompletion\": 1.0, \"interactionType\": 1, \"questionType\": 2, \"questionId\": \"3.1_ImputeCode\", \"learnToolsVersion\": \"0.3.4\", \"failureMessage\": \"\", \"exceptionClass\": \"\", \"trace\": \"\"}}, \"*\")"
      ],
      "text/plain": [
       "<IPython.core.display.Javascript object>"
      ]
     },
     "metadata": {},
     "output_type": "display_data"
    },
    {
     "data": {
      "text/markdown": [
       "<span style=\"color:#33cc33\">Correct</span>"
      ],
      "text/plain": [
       "Correct"
      ]
     },
     "metadata": {},
     "output_type": "display_data"
    }
   ],
   "source": [
    "from sklearn.impute import SimpleImputer\n",
    "\n",
    "# Fill in the lines below: imputation\n",
    "# Your code here\n",
    "imputer=SimpleImputer()\n",
    "imputed_X_train =pd.DataFrame(imputer.fit_transform(X_train))\n",
    "imputed_X_valid =pd.DataFrame(imputer.transform(X_valid))\n",
    "\n",
    "# Fill in the lines below: imputation removed column names; put them back\n",
    "imputed_X_train.columns = X_train.columns\n",
    "imputed_X_valid.columns = X_valid.columns\n",
    "\n",
    "# Check your answers\n",
    "step_3.a.check()"
   ]
  },
  {
   "cell_type": "code",
   "execution_count": 14,
   "id": "e1725103",
   "metadata": {
    "execution": {
     "iopub.execute_input": "2024-01-25T09:06:35.462153Z",
     "iopub.status.busy": "2024-01-25T09:06:35.461429Z",
     "iopub.status.idle": "2024-01-25T09:06:35.467061Z",
     "shell.execute_reply": "2024-01-25T09:06:35.465719Z"
    },
    "papermill": {
     "duration": 0.021754,
     "end_time": "2024-01-25T09:06:35.470387",
     "exception": false,
     "start_time": "2024-01-25T09:06:35.448633",
     "status": "completed"
    },
    "tags": []
   },
   "outputs": [],
   "source": [
    "# Lines below will give you a hint or solution code\n",
    "#step_3.a.hint()\n",
    "# step_3.a.solution()"
   ]
  },
  {
   "cell_type": "markdown",
   "id": "3881db2f",
   "metadata": {
    "papermill": {
     "duration": 0.011205,
     "end_time": "2024-01-25T09:06:35.492156",
     "exception": false,
     "start_time": "2024-01-25T09:06:35.480951",
     "status": "completed"
    },
    "tags": []
   },
   "source": [
    "Run the next code cell without changes to obtain the MAE for this approach."
   ]
  },
  {
   "cell_type": "code",
   "execution_count": 15,
   "id": "ca5cf604",
   "metadata": {
    "execution": {
     "iopub.execute_input": "2024-01-25T09:06:35.515234Z",
     "iopub.status.busy": "2024-01-25T09:06:35.514830Z",
     "iopub.status.idle": "2024-01-25T09:06:36.916979Z",
     "shell.execute_reply": "2024-01-25T09:06:36.916057Z"
    },
    "papermill": {
     "duration": 1.416856,
     "end_time": "2024-01-25T09:06:36.919486",
     "exception": false,
     "start_time": "2024-01-25T09:06:35.502630",
     "status": "completed"
    },
    "tags": []
   },
   "outputs": [
    {
     "name": "stdout",
     "output_type": "stream",
     "text": [
      "MAE (Imputation):\n",
      "18062.894611872147\n"
     ]
    }
   ],
   "source": [
    "print(\"MAE (Imputation):\")\n",
    "print(score_dataset(imputed_X_train, imputed_X_valid, y_train, y_valid))"
   ]
  },
  {
   "cell_type": "markdown",
   "id": "b70f8ab4",
   "metadata": {
    "papermill": {
     "duration": 0.010026,
     "end_time": "2024-01-25T09:06:36.940106",
     "exception": false,
     "start_time": "2024-01-25T09:06:36.930080",
     "status": "completed"
    },
    "tags": []
   },
   "source": [
    "### Part B\n",
    "\n",
    "Compare the MAE from each approach.  Does anything surprise you about the results?  Why do you think one approach performed better than the other?"
   ]
  },
  {
   "cell_type": "code",
   "execution_count": 16,
   "id": "60d565f7",
   "metadata": {
    "execution": {
     "iopub.execute_input": "2024-01-25T09:06:36.963594Z",
     "iopub.status.busy": "2024-01-25T09:06:36.962963Z",
     "iopub.status.idle": "2024-01-25T09:06:36.973080Z",
     "shell.execute_reply": "2024-01-25T09:06:36.971796Z"
    },
    "papermill": {
     "duration": 0.025266,
     "end_time": "2024-01-25T09:06:36.975793",
     "exception": false,
     "start_time": "2024-01-25T09:06:36.950527",
     "status": "completed"
    },
    "tags": []
   },
   "outputs": [
    {
     "data": {
      "application/javascript": [
       "parent.postMessage({\"jupyterEvent\": \"custom.exercise_interaction\", \"data\": {\"outcomeType\": 1, \"valueTowardsCompletion\": 1.0, \"interactionType\": 1, \"questionType\": 4, \"questionId\": \"3.2_ImputeThought\", \"learnToolsVersion\": \"0.3.4\", \"failureMessage\": \"\", \"exceptionClass\": \"\", \"trace\": \"\"}}, \"*\")"
      ],
      "text/plain": [
       "<IPython.core.display.Javascript object>"
      ]
     },
     "metadata": {},
     "output_type": "display_data"
    },
    {
     "data": {
      "text/markdown": [
       "<span style=\"color:#33cc33\">Correct:</span> \n",
       "\n",
       "Given that thre are so few missing values in the dataset, we'd expect imputation to perform better than dropping columns entirely.  However, we see that dropping columns performs slightly better!  While this can probably partially be attributed to noise in the dataset, another potential explanation is that the imputation method is not a great match to this dataset.  That is, maybe instead of filling in the mean value, it makes more sense to set every missing value to a value of 0, to fill in the most frequently encountered value, or to use some other method.  For instance, consider the `GarageYrBlt` column (which indicates the year that the garage was built).  It's likely that in some cases, a missing value could indicate a house that does not have a garage.  Does it make more sense to fill in the median value along each column in this case?  Or could we get better results by filling in the minimum value along each column?  It's not quite clear what's best in this case, but perhaps we can rule out some options immediately - for instance, setting missing values in this column to 0 is likely to yield horrible results!"
      ],
      "text/plain": [
       "Correct: \n",
       "\n",
       "Given that thre are so few missing values in the dataset, we'd expect imputation to perform better than dropping columns entirely.  However, we see that dropping columns performs slightly better!  While this can probably partially be attributed to noise in the dataset, another potential explanation is that the imputation method is not a great match to this dataset.  That is, maybe instead of filling in the mean value, it makes more sense to set every missing value to a value of 0, to fill in the most frequently encountered value, or to use some other method.  For instance, consider the `GarageYrBlt` column (which indicates the year that the garage was built).  It's likely that in some cases, a missing value could indicate a house that does not have a garage.  Does it make more sense to fill in the median value along each column in this case?  Or could we get better results by filling in the minimum value along each column?  It's not quite clear what's best in this case, but perhaps we can rule out some options immediately - for instance, setting missing values in this column to 0 is likely to yield horrible results!"
      ]
     },
     "metadata": {},
     "output_type": "display_data"
    }
   ],
   "source": [
    "# Check your answer (Run this code cell to receive credit!)\n",
    "step_3.b.check()"
   ]
  },
  {
   "cell_type": "code",
   "execution_count": 17,
   "id": "b8a34b17",
   "metadata": {
    "execution": {
     "iopub.execute_input": "2024-01-25T09:06:36.999036Z",
     "iopub.status.busy": "2024-01-25T09:06:36.998657Z",
     "iopub.status.idle": "2024-01-25T09:06:37.002944Z",
     "shell.execute_reply": "2024-01-25T09:06:37.001654Z"
    },
    "papermill": {
     "duration": 0.018762,
     "end_time": "2024-01-25T09:06:37.005323",
     "exception": false,
     "start_time": "2024-01-25T09:06:36.986561",
     "status": "completed"
    },
    "tags": []
   },
   "outputs": [],
   "source": [
    "#step_3.b.hint()"
   ]
  },
  {
   "cell_type": "markdown",
   "id": "acf1ea93",
   "metadata": {
    "papermill": {
     "duration": 0.010248,
     "end_time": "2024-01-25T09:06:37.026271",
     "exception": false,
     "start_time": "2024-01-25T09:06:37.016023",
     "status": "completed"
    },
    "tags": []
   },
   "source": [
    "# Step 4: Generate test predictions\n",
    "\n",
    "In this final step, you'll use any approach of your choosing to deal with missing values.  Once you've preprocessed the training and validation features, you'll train and evaluate a random forest model.  Then, you'll preprocess the test data before generating predictions that can be submitted to the competition!\n",
    "\n",
    "### Part A\n",
    "\n",
    "Use the next code cell to preprocess the training and validation data.  Set the preprocessed DataFrames to `final_X_train` and `final_X_valid`.  **You can use any approach of your choosing here!**  in order for this step to be marked as correct, you need only ensure:\n",
    "- the preprocessed DataFrames have the same number of columns,\n",
    "- the preprocessed DataFrames have no missing values, \n",
    "- `final_X_train` and `y_train` have the same number of rows, and\n",
    "- `final_X_valid` and `y_valid` have the same number of rows."
   ]
  },
  {
   "cell_type": "code",
   "execution_count": 18,
   "id": "b6419b2d",
   "metadata": {
    "execution": {
     "iopub.execute_input": "2024-01-25T09:06:37.049237Z",
     "iopub.status.busy": "2024-01-25T09:06:37.048872Z",
     "iopub.status.idle": "2024-01-25T09:06:37.080732Z",
     "shell.execute_reply": "2024-01-25T09:06:37.079231Z"
    },
    "papermill": {
     "duration": 0.046473,
     "end_time": "2024-01-25T09:06:37.083245",
     "exception": false,
     "start_time": "2024-01-25T09:06:37.036772",
     "status": "completed"
    },
    "tags": []
   },
   "outputs": [
    {
     "data": {
      "application/javascript": [
       "parent.postMessage({\"jupyterEvent\": \"custom.exercise_interaction\", \"data\": {\"outcomeType\": 1, \"valueTowardsCompletion\": 1.0, \"interactionType\": 1, \"questionType\": 2, \"questionId\": \"4.1_PredsCodeA\", \"learnToolsVersion\": \"0.3.4\", \"failureMessage\": \"\", \"exceptionClass\": \"\", \"trace\": \"\"}}, \"*\")"
      ],
      "text/plain": [
       "<IPython.core.display.Javascript object>"
      ]
     },
     "metadata": {},
     "output_type": "display_data"
    },
    {
     "data": {
      "text/markdown": [
       "<span style=\"color:#33cc33\">Correct</span>"
      ],
      "text/plain": [
       "Correct"
      ]
     },
     "metadata": {},
     "output_type": "display_data"
    }
   ],
   "source": [
    "# Preprocessed training and validation features\n",
    "final_X_train = pd.DataFrame(imputer.fit_transform(X_train))\n",
    "final_X_valid = pd.DataFrame(imputer.transform(X_valid))\n",
    "\n",
    "# Check your answers\n",
    "step_4.a.check()"
   ]
  },
  {
   "cell_type": "code",
   "execution_count": 19,
   "id": "d6fb1429",
   "metadata": {
    "execution": {
     "iopub.execute_input": "2024-01-25T09:06:37.108868Z",
     "iopub.status.busy": "2024-01-25T09:06:37.108319Z",
     "iopub.status.idle": "2024-01-25T09:06:37.115155Z",
     "shell.execute_reply": "2024-01-25T09:06:37.113653Z"
    },
    "papermill": {
     "duration": 0.022811,
     "end_time": "2024-01-25T09:06:37.117761",
     "exception": false,
     "start_time": "2024-01-25T09:06:37.094950",
     "status": "completed"
    },
    "tags": []
   },
   "outputs": [],
   "source": [
    "# Lines below will give you a hint or solution code\n",
    "#step_4.a.hint()\n",
    "#step_4.a.solution()"
   ]
  },
  {
   "cell_type": "markdown",
   "id": "b206e23a",
   "metadata": {
    "papermill": {
     "duration": 0.010743,
     "end_time": "2024-01-25T09:06:37.140061",
     "exception": false,
     "start_time": "2024-01-25T09:06:37.129318",
     "status": "completed"
    },
    "tags": []
   },
   "source": [
    "Run the next code cell to train and evaluate a random forest model.  (*Note that we don't use the `score_dataset()` function above, because we will soon use the trained model to generate test predictions!*)"
   ]
  },
  {
   "cell_type": "code",
   "execution_count": 20,
   "id": "9c99e1ea",
   "metadata": {
    "execution": {
     "iopub.execute_input": "2024-01-25T09:06:37.165619Z",
     "iopub.status.busy": "2024-01-25T09:06:37.165234Z",
     "iopub.status.idle": "2024-01-25T09:06:38.572764Z",
     "shell.execute_reply": "2024-01-25T09:06:38.571068Z"
    },
    "papermill": {
     "duration": 1.423907,
     "end_time": "2024-01-25T09:06:38.575623",
     "exception": false,
     "start_time": "2024-01-25T09:06:37.151716",
     "status": "completed"
    },
    "tags": []
   },
   "outputs": [
    {
     "name": "stdout",
     "output_type": "stream",
     "text": [
      "MAE (Your approach):\n",
      "18062.894611872147\n"
     ]
    }
   ],
   "source": [
    "# Define and fit model\n",
    "model = RandomForestRegressor(n_estimators=100, random_state=0)\n",
    "model.fit(final_X_train, y_train)\n",
    "\n",
    "# Get validation predictions and MAE\n",
    "preds_valid = model.predict(final_X_valid)\n",
    "print(\"MAE (Your approach):\")\n",
    "print(mean_absolute_error(y_valid, preds_valid))"
   ]
  },
  {
   "cell_type": "markdown",
   "id": "0bb8e991",
   "metadata": {
    "papermill": {
     "duration": 0.011579,
     "end_time": "2024-01-25T09:06:38.599633",
     "exception": false,
     "start_time": "2024-01-25T09:06:38.588054",
     "status": "completed"
    },
    "tags": []
   },
   "source": [
    "### Part B\n",
    "\n",
    "Use the next code cell to preprocess your test data.  Make sure that you use a method that agrees with how you preprocessed the training and validation data, and set the preprocessed test features to `final_X_test`.\n",
    "\n",
    "Then, use the preprocessed test features and the trained model to generate test predictions in `preds_test`.\n",
    "\n",
    "In order for this step to be marked correct, you need only ensure:\n",
    "- the preprocessed test DataFrame has no missing values, and\n",
    "- `final_X_test` has the same number of rows as `X_test`."
   ]
  },
  {
   "cell_type": "code",
   "execution_count": 21,
   "id": "4dd41811",
   "metadata": {
    "execution": {
     "iopub.execute_input": "2024-01-25T09:06:38.624969Z",
     "iopub.status.busy": "2024-01-25T09:06:38.624590Z",
     "iopub.status.idle": "2024-01-25T09:06:38.673614Z",
     "shell.execute_reply": "2024-01-25T09:06:38.672498Z"
    },
    "papermill": {
     "duration": 0.06441,
     "end_time": "2024-01-25T09:06:38.676217",
     "exception": false,
     "start_time": "2024-01-25T09:06:38.611807",
     "status": "completed"
    },
    "tags": []
   },
   "outputs": [
    {
     "data": {
      "application/javascript": [
       "parent.postMessage({\"jupyterEvent\": \"custom.exercise_interaction\", \"data\": {\"outcomeType\": 1, \"valueTowardsCompletion\": 1.0, \"interactionType\": 1, \"questionType\": 2, \"questionId\": \"4.2_PredsCodeB\", \"learnToolsVersion\": \"0.3.4\", \"failureMessage\": \"\", \"exceptionClass\": \"\", \"trace\": \"\"}}, \"*\")"
      ],
      "text/plain": [
       "<IPython.core.display.Javascript object>"
      ]
     },
     "metadata": {},
     "output_type": "display_data"
    },
    {
     "data": {
      "text/markdown": [
       "<span style=\"color:#33cc33\">Correct</span>"
      ],
      "text/plain": [
       "Correct"
      ]
     },
     "metadata": {},
     "output_type": "display_data"
    }
   ],
   "source": [
    "# Fill in the line below: preprocess test data\n",
    "final_X_test = pd.DataFrame(imputer.fit_transform(X_test))\n",
    "\n",
    "# Fill in the line below: get test predictions\n",
    "preds_test = model.predict(final_X_test)\n",
    "\n",
    "# Check your answers\n",
    "step_4.b.check()"
   ]
  },
  {
   "cell_type": "code",
   "execution_count": 22,
   "id": "00bcb101",
   "metadata": {
    "execution": {
     "iopub.execute_input": "2024-01-25T09:06:38.704624Z",
     "iopub.status.busy": "2024-01-25T09:06:38.704237Z",
     "iopub.status.idle": "2024-01-25T09:06:38.709188Z",
     "shell.execute_reply": "2024-01-25T09:06:38.708074Z"
    },
    "papermill": {
     "duration": 0.020793,
     "end_time": "2024-01-25T09:06:38.711525",
     "exception": false,
     "start_time": "2024-01-25T09:06:38.690732",
     "status": "completed"
    },
    "tags": []
   },
   "outputs": [],
   "source": [
    "# Lines below will give you a hint or solution code\n",
    "#step_4.b.hint()\n",
    "#step_4.b.solution()"
   ]
  },
  {
   "cell_type": "markdown",
   "id": "fc531d11",
   "metadata": {
    "papermill": {
     "duration": 0.01099,
     "end_time": "2024-01-25T09:06:38.733924",
     "exception": false,
     "start_time": "2024-01-25T09:06:38.722934",
     "status": "completed"
    },
    "tags": []
   },
   "source": [
    "Run the next code cell without changes to save your results to a CSV file that can be submitted directly to the competition."
   ]
  },
  {
   "cell_type": "code",
   "execution_count": 23,
   "id": "39991bef",
   "metadata": {
    "execution": {
     "iopub.execute_input": "2024-01-25T09:06:38.759341Z",
     "iopub.status.busy": "2024-01-25T09:06:38.758934Z",
     "iopub.status.idle": "2024-01-25T09:06:38.771120Z",
     "shell.execute_reply": "2024-01-25T09:06:38.769957Z"
    },
    "papermill": {
     "duration": 0.027824,
     "end_time": "2024-01-25T09:06:38.773669",
     "exception": false,
     "start_time": "2024-01-25T09:06:38.745845",
     "status": "completed"
    },
    "tags": []
   },
   "outputs": [],
   "source": [
    "# Save test predictions to file\n",
    "output = pd.DataFrame({'Id': X_test.index,\n",
    "                       'SalePrice': preds_test})\n",
    "output.to_csv('submission.csv', index=False)"
   ]
  },
  {
   "cell_type": "markdown",
   "id": "4c0d16b8",
   "metadata": {
    "papermill": {
     "duration": 0.010879,
     "end_time": "2024-01-25T09:06:38.795855",
     "exception": false,
     "start_time": "2024-01-25T09:06:38.784976",
     "status": "completed"
    },
    "tags": []
   },
   "source": [
    "# Submit your results\n",
    "\n",
    "Once you have successfully completed Step 4, you're ready to submit your results to the leaderboard!  (_You also learned how to do this in the previous exercise.  If you need a reminder of how to do this, please use the instructions below._)  \n",
    "\n",
    "First, you'll need to join the competition if you haven't already.  So open a new window by clicking on [this link](https://www.kaggle.com/c/home-data-for-ml-course).  Then click on the **Join Competition** button.\n",
    "\n",
    "![join competition image](https://storage.googleapis.com/kaggle-media/learn/images/wLmFtH3.png)\n",
    "\n",
    "Next, follow the instructions below:\n",
    "1. Begin by clicking on the **Save Version** button in the top right corner of the window.  This will generate a pop-up window.  \n",
    "2. Ensure that the **Save and Run All** option is selected, and then click on the **Save** button.\n",
    "3. This generates a window in the bottom left corner of the notebook.  After it has finished running, click on the number to the right of the **Save Version** button.  This pulls up a list of versions on the right of the screen.  Click on the ellipsis **(...)** to the right of the most recent version, and select **Open in Viewer**.  This brings you into view mode of the same page. You will need to scroll down to get back to these instructions.\n",
    "4. Click on the **Data** tab near the top of the screen.  Then, click on the file you would like to submit, and click on the **Submit** button to submit your results to the leaderboard.\n",
    "\n",
    "You have now successfully submitted to the competition!\n",
    "\n",
    "If you want to keep working to improve your performance, select the **Edit** button in the top right of the screen. Then you can change your code and repeat the process. There's a lot of room to improve, and you will climb up the leaderboard as you work.\n",
    "\n",
    "\n",
    "# Keep going\n",
    "\n",
    "Move on to learn what **[categorical variables](https://www.kaggle.com/alexisbcook/categorical-variables)** are, along with how to incorporate them into your machine learning models.  Categorical variables are very common in real-world data, but you'll get an error if you try to plug them into your models without processing them first!"
   ]
  },
  {
   "cell_type": "markdown",
   "id": "c0ba3c28",
   "metadata": {
    "papermill": {
     "duration": 0.01132,
     "end_time": "2024-01-25T09:06:38.819085",
     "exception": false,
     "start_time": "2024-01-25T09:06:38.807765",
     "status": "completed"
    },
    "tags": []
   },
   "source": [
    "---\n",
    "\n",
    "\n",
    "\n",
    "\n",
    "*Have questions or comments? Visit the [course discussion forum](https://www.kaggle.com/learn/intermediate-machine-learning/discussion) to chat with other learners.*"
   ]
  }
 ],
 "metadata": {
  "kaggle": {
   "accelerator": "none",
   "dataSources": [
    {
     "databundleVersionId": 111096,
     "sourceId": 10211,
     "sourceType": "competition"
    }
   ],
   "isGpuEnabled": false,
   "isInternetEnabled": false,
   "language": "python",
   "sourceType": "notebook"
  },
  "kernelspec": {
   "display_name": "Python 3",
   "language": "python",
   "name": "python3"
  },
  "language_info": {
   "codemirror_mode": {
    "name": "ipython",
    "version": 3
   },
   "file_extension": ".py",
   "mimetype": "text/x-python",
   "name": "python",
   "nbconvert_exporter": "python",
   "pygments_lexer": "ipython3",
   "version": "3.10.12"
  },
  "papermill": {
   "default_parameters": {},
   "duration": 13.238192,
   "end_time": "2024-01-25T09:06:39.451629",
   "environment_variables": {},
   "exception": null,
   "input_path": "__notebook__.ipynb",
   "output_path": "__notebook__.ipynb",
   "parameters": {},
   "start_time": "2024-01-25T09:06:26.213437",
   "version": "2.4.0"
  }
 },
 "nbformat": 4,
 "nbformat_minor": 5
}
